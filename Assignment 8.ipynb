{
 "cells": [
  {
   "cell_type": "markdown",
   "metadata": {},
   "source": [
    "Write a function to find moving average in an array over a window:\n",
    "\n",
    "Test it over [3, 5, 7, 2, 8, 10, 11, 65, 72, 81, 99, 100, 150] and window of 3"
   ]
  },
  {
   "cell_type": "code",
   "execution_count": 1,
   "metadata": {
    "ExecuteTime": {
     "end_time": "2018-06-23T10:39:14.946170Z",
     "start_time": "2018-06-23T10:39:14.814820Z"
    }
   },
   "outputs": [],
   "source": [
    "import numpy as np\n",
    "def mov_avg(x,w):\n",
    "    for i in range(len(x)-w):\n",
    "        y=np.sum(x[i:i+w])\n",
    "        print(y/w)\n",
    "        "
   ]
  },
  {
   "cell_type": "code",
   "execution_count": 3,
   "metadata": {
    "ExecuteTime": {
     "end_time": "2018-06-23T10:39:19.403785Z",
     "start_time": "2018-06-23T10:39:19.395786Z"
    }
   },
   "outputs": [
    {
     "name": "stdout",
     "output_type": "stream",
     "text": [
      "4.0\n",
      "6.0\n",
      "4.5\n",
      "5.0\n",
      "9.0\n",
      "10.5\n",
      "38.0\n",
      "68.5\n",
      "76.5\n",
      "90.0\n",
      "99.5\n"
     ]
    }
   ],
   "source": [
    "x = [3, 5, 7, 2, 8, 10, 11, 65, 72, 81, 99, 100, 150]\n",
    "mov_avg(x,2)"
   ]
  },
  {
   "cell_type": "code",
   "execution_count": null,
   "metadata": {},
   "outputs": [],
   "source": []
  },
  {
   "cell_type": "markdown",
   "metadata": {
    "ExecuteTime": {
     "end_time": "2018-07-06T09:47:32.846029Z",
     "start_time": "2018-07-06T09:47:32.838033Z"
    }
   },
   "source": [
    "#How-to-count-distance-to-the-previous-zero\n",
    "For each value, count the difference back to the previous zero (or the start of the Series,whichever is closer)\n",
    "create a new column 'Y'\n",
    "Consider a DataFrame df where there is an integer column 'X'\n",
    "import pandas as pd\n",
    "df = pd.DataFrame({'X': [7, 2, 0, 3, 4, 2, 5, 0, 3, 4]})"
   ]
  },
  {
   "cell_type": "code",
   "execution_count": 4,
   "metadata": {
    "ExecuteTime": {
     "end_time": "2018-07-06T09:50:11.555079Z",
     "start_time": "2018-07-06T09:50:11.543084Z"
    }
   },
   "outputs": [
    {
     "data": {
      "text/plain": [
       "[1, 2, 0, 1, 2, 3, 4, 0, 1, 2]"
      ]
     },
     "execution_count": 4,
     "metadata": {},
     "output_type": "execute_result"
    }
   ],
   "source": [
    "import pandas as pd\n",
    "s = pd.Series([7, 2, 0, 3, 4, 2, 5, 0, 3, 4])\n",
    "(s.groupby(s.eq(0).cumsum().mask(s.eq(0))).cumcount() + 1).mask(s.eq(0), 0).tolist()"
   ]
  },
  {
   "cell_type": "code",
   "execution_count": null,
   "metadata": {},
   "outputs": [],
   "source": []
  },
  {
   "cell_type": "markdown",
   "metadata": {
    "ExecuteTime": {
     "end_time": "2018-07-06T09:51:00.530481Z",
     "start_time": "2018-07-06T09:51:00.527482Z"
    }
   },
   "source": [
    "#Create a DatetimeIndex that contains each business day of 2015 and use it to index a Series of random numbers."
   ]
  },
  {
   "cell_type": "code",
   "execution_count": 7,
   "metadata": {
    "ExecuteTime": {
     "end_time": "2018-07-06T09:52:07.019613Z",
     "start_time": "2018-07-06T09:52:06.982634Z"
    },
    "scrolled": true
   },
   "outputs": [
    {
     "data": {
      "text/plain": [
       "2015-01-01    0.715598\n",
       "2015-01-02    0.929341\n",
       "2015-01-05    0.546643\n",
       "2015-01-06    0.686448\n",
       "2015-01-07    0.177416\n",
       "2015-01-08    0.909224\n",
       "2015-01-09    0.089968\n",
       "2015-01-12    0.440408\n",
       "2015-01-13    0.793520\n",
       "2015-01-14    0.176084\n",
       "2015-01-15    0.455408\n",
       "2015-01-16    0.300206\n",
       "2015-01-19    0.322134\n",
       "2015-01-20    0.476455\n",
       "2015-01-21    0.950649\n",
       "2015-01-22    0.701673\n",
       "2015-01-23    0.588569\n",
       "2015-01-26    0.686908\n",
       "2015-01-27    0.184188\n",
       "2015-01-28    0.020590\n",
       "2015-01-29    0.122356\n",
       "2015-01-30    0.666657\n",
       "2015-02-02    0.283651\n",
       "2015-02-03    0.042209\n",
       "2015-02-04    0.946286\n",
       "2015-02-05    0.035665\n",
       "2015-02-06    0.007525\n",
       "2015-02-09    0.609842\n",
       "2015-02-10    0.228598\n",
       "2015-02-11    0.530681\n",
       "                ...   \n",
       "2015-11-20    0.699536\n",
       "2015-11-23    0.231311\n",
       "2015-11-24    0.993216\n",
       "2015-11-25    0.134857\n",
       "2015-11-26    0.381521\n",
       "2015-11-27    0.226383\n",
       "2015-11-30    0.446750\n",
       "2015-12-01    0.876498\n",
       "2015-12-02    0.422891\n",
       "2015-12-03    0.237987\n",
       "2015-12-04    0.010790\n",
       "2015-12-07    0.328495\n",
       "2015-12-08    0.860088\n",
       "2015-12-09    0.201180\n",
       "2015-12-10    0.486814\n",
       "2015-12-11    0.097280\n",
       "2015-12-14    0.645195\n",
       "2015-12-15    0.132743\n",
       "2015-12-16    0.429017\n",
       "2015-12-17    0.687373\n",
       "2015-12-18    0.475721\n",
       "2015-12-21    0.244628\n",
       "2015-12-22    0.253768\n",
       "2015-12-23    0.041004\n",
       "2015-12-24    0.497433\n",
       "2015-12-25    0.086997\n",
       "2015-12-28    0.422689\n",
       "2015-12-29    0.294333\n",
       "2015-12-30    0.218356\n",
       "2015-12-31    0.094744\n",
       "Freq: B, Length: 261, dtype: float64"
      ]
     },
     "execution_count": 7,
     "metadata": {},
     "output_type": "execute_result"
    }
   ],
   "source": [
    "import numpy as np\n",
    "dti = pd.date_range(start='2015-01-01', end='2015-12-31', freq='B')\n",
    "s = pd.Series(np.random.rand(len(dti)), index=dti)\n",
    "s"
   ]
  },
  {
   "cell_type": "code",
   "execution_count": 8,
   "metadata": {
    "ExecuteTime": {
     "end_time": "2018-07-06T09:55:29.903898Z",
     "start_time": "2018-07-06T09:55:29.897900Z"
    }
   },
   "outputs": [
    {
     "data": {
      "text/plain": [
       "25.2910406700159"
      ]
     },
     "execution_count": 8,
     "metadata": {},
     "output_type": "execute_result"
    }
   ],
   "source": [
    "# Find the sum of the values in s for every Wednesday.\n",
    "s[dti.weekday == 2].sum()"
   ]
  },
  {
   "cell_type": "code",
   "execution_count": 10,
   "metadata": {
    "ExecuteTime": {
     "end_time": "2018-07-06T09:56:44.718360Z",
     "start_time": "2018-07-06T09:56:44.696375Z"
    }
   },
   "outputs": [
    {
     "data": {
      "text/plain": [
       "2015-01-31    0.497293\n",
       "2015-02-28    0.468329\n",
       "2015-03-31    0.639550\n",
       "2015-04-30    0.528367\n",
       "2015-05-31    0.474966\n",
       "2015-06-30    0.582851\n",
       "2015-07-31    0.504425\n",
       "2015-08-31    0.487011\n",
       "2015-09-30    0.602991\n",
       "2015-10-31    0.583621\n",
       "2015-11-30    0.518820\n",
       "2015-12-31    0.349827\n",
       "Freq: M, dtype: float64"
      ]
     },
     "execution_count": 10,
     "metadata": {},
     "output_type": "execute_result"
    }
   ],
   "source": [
    "#Average For each calendar month\n",
    "#s.resample('M', how='mean')\n",
    "s.resample('M').mean()"
   ]
  },
  {
   "cell_type": "code",
   "execution_count": 11,
   "metadata": {
    "ExecuteTime": {
     "end_time": "2018-07-06T09:57:59.717509Z",
     "start_time": "2018-07-06T09:57:59.694521Z"
    }
   },
   "outputs": [
    {
     "name": "stderr",
     "output_type": "stream",
     "text": [
      "C:\\Users\\User\\Anaconda3\\lib\\site-packages\\ipykernel_launcher.py:2: FutureWarning: pd.TimeGrouper is deprecated and will be removed; Please use pd.Grouper(freq=...)\n",
      "  \n"
     ]
    },
    {
     "data": {
      "text/plain": [
       "2015-01-31   2015-01-21\n",
       "2015-05-31   2015-03-16\n",
       "2015-09-30   2015-09-15\n",
       "2016-01-31   2015-10-05\n",
       "dtype: datetime64[ns]"
      ]
     },
     "execution_count": 11,
     "metadata": {},
     "output_type": "execute_result"
    }
   ],
   "source": [
    "#For each group of four consecutive calendar months in s, find the date on which the highest value occurred.\n",
    "s.groupby(pd.TimeGrouper('4M')).idxmax()"
   ]
  },
  {
   "cell_type": "code",
   "execution_count": null,
   "metadata": {},
   "outputs": [],
   "source": []
  }
 ],
 "metadata": {
  "kernelspec": {
   "display_name": "Python 3",
   "language": "python",
   "name": "python3"
  },
  "language_info": {
   "codemirror_mode": {
    "name": "ipython",
    "version": 3
   },
   "file_extension": ".py",
   "mimetype": "text/x-python",
   "name": "python",
   "nbconvert_exporter": "python",
   "pygments_lexer": "ipython3",
   "version": "3.6.4"
  }
 },
 "nbformat": 4,
 "nbformat_minor": 2
}
